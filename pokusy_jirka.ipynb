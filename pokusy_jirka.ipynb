{
  "nbformat": 4,
  "nbformat_minor": 0,
  "metadata": {
    "colab": {
      "name": "pokusy_jirka.ipynb",
      "provenance": [],
      "collapsed_sections": [],
      "authorship_tag": "ABX9TyOIfwnSk+7OIAn+uzIiY0+x",
      "include_colab_link": true
    },
    "kernelspec": {
      "name": "python3",
      "display_name": "Python 3"
    },
    "language_info": {
      "name": "python"
    }
  },
  "cells": [
    {
      "cell_type": "markdown",
      "metadata": {
        "id": "view-in-github",
        "colab_type": "text"
      },
      "source": [
        "<a href=\"https://colab.research.google.com/github/osvobozeni3729/pokus/blob/main/pokusy_jirka.ipynb\" target=\"_parent\"><img src=\"https://colab.research.google.com/assets/colab-badge.svg\" alt=\"Open In Colab\"/></a>"
      ]
    },
    {
      "cell_type": "code",
      "execution_count": null,
      "metadata": {
        "colab": {
          "base_uri": "https://localhost:8080/"
        },
        "id": "GjwoIj8x77mi",
        "outputId": "73a8d4fa-be52-4c86-c59d-3bb5eed9b28c"
      },
      "outputs": [
        {
          "output_type": "stream",
          "name": "stdout",
          "text": [
            "zadej číslo:    512\n",
            "\n",
            "   512\n"
          ]
        }
      ],
      "source": [
        "prihradka = input(\"zadej číslo:    \")\n",
        "print()\n",
        "print(\"  \", prihradka)"
      ]
    },
    {
      "cell_type": "code",
      "source": [
        "a = int(input(\"zadej první číslo:   \"))\n",
        "b = int(input(\"zadej druhé číslo:   \"))\n",
        "c = a+b\n",
        "print(\"výsledné číslo:\", c)"
      ],
      "metadata": {
        "colab": {
          "base_uri": "https://localhost:8080/"
        },
        "id": "tlAKtnOy8o3T",
        "outputId": "41c12b44-b097-4d76-df36-85a981739163"
      },
      "execution_count": null,
      "outputs": [
        {
          "output_type": "stream",
          "name": "stdout",
          "text": [
            "zadej první číslo:   5\n",
            "zadej druhé číslo:   6\n",
            "výsledné číslo: 11\n"
          ]
        }
      ]
    },
    {
      "cell_type": "code",
      "source": [
        "a = input(\"zadej křestní jméno:   \")\n",
        "b = input(\"zadej příjmení:   \")\n",
        "vek =int(input(\"zadej věk:   \"))\n",
        "pohlavi = input(\"zadej tvé pohlaví:   \")\n",
        "c = a+ \" \" + b\n",
        "d = b+ \" \" + a\n",
        "print(\"tvé jméno je: \", c)\n",
        "print (\"jméno v obrácenym pořadí:\", d)\n",
        "if vek > 10:\n",
        "  if pohlavi == \"muž\":\n",
        "    print(\"už jsi starý vůl\")\n",
        "  else:\n",
        "    print (\"už jsi stará kráva\")\n",
        "\n",
        "else:\n",
        "  print (\"jsi ješťě mladé tele\")\n"
      ],
      "metadata": {
        "colab": {
          "base_uri": "https://localhost:8080/"
        },
        "id": "ycRLy1Qq_zhQ",
        "outputId": "cd28e2e4-b606-4b18-c706-9ab68f57f20f"
      },
      "execution_count": null,
      "outputs": [
        {
          "output_type": "stream",
          "name": "stdout",
          "text": [
            "zadej křestní jméno:   Klára\n",
            "zadej příjmení:   Pastorková\n",
            "zadej věk:   39\n",
            "zadej tvé pohlaví:   žena\n",
            "tvé jméno je:  Klára Pastorková\n",
            "jméno v obrácenym pořadí: Pastorková Klára\n",
            "už jsi stará kráva\n"
          ]
        }
      ]
    },
    {
      "cell_type": "code",
      "source": [
        "prvni_cislo = float(input(\"zadej první číslo:  \"))\n",
        "druhe_cislo = float(input(\"zadej druhé číslo:  \"))\n",
        "print(\"Co s tím mám udělat?\")\n",
        "print(\"součet-s, rozdíl-r, součin-m, podíl-p\")\n",
        "operace = input()\n",
        "if operace == \"s\":\n",
        "  vysledek =  prvni_cislo + druhe_cislo\n",
        "elif operace == \"r\": \n",
        "  vysledek = prvni_cislo - druhe_cislo\n",
        "elif operace == \"m\":\n",
        "  vysledek = prvni_cislo * druhe_cislo\n",
        "elif druhe_cislo == 0.0:\n",
        "  vysledek =\"chyba- nulou nedělíme\"\n",
        "else:\n",
        "   vysledek =prvni_cislo / druhe_cislo\n",
        "print(vysledek)"
      ],
      "metadata": {
        "colab": {
          "base_uri": "https://localhost:8080/"
        },
        "id": "3m8Pz7IpLSAM",
        "outputId": "64fab5ec-92fa-4a60-d265-cceb7e2e168c"
      },
      "execution_count": null,
      "outputs": [
        {
          "output_type": "stream",
          "name": "stdout",
          "text": [
            "zadej první číslo:  8\n",
            "zadej druhé číslo:  4\n",
            "Co s tím mám udělat?\n",
            "součet-s, rozdíl-r, součin-m, podíl-p\n",
            "p\n",
            "2.0\n"
          ]
        }
      ]
    }
  ]
}